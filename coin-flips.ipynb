{
 "cells": [
  {
   "cell_type": "code",
   "execution_count": 1,
   "metadata": {
    "collapsed": true
   },
   "outputs": [],
   "source": [
    "%matplotlib inline\n",
    "import math\n",
    "import random\n",
    "import statistics as st\n",
    "import numpy as np\n",
    "import matplotlib.pyplot as plt"
   ]
  },
  {
   "cell_type": "code",
   "execution_count": 14,
   "metadata": {
    "collapsed": false
   },
   "outputs": [
    {
     "name": "stdout",
     "output_type": "stream",
     "text": [
      "False True False False\n"
     ]
    }
   ],
   "source": [
    "def is_heads():\n",
    "    coin = random.random()\n",
    "    return coin > 0.500000000\n",
    "\n",
    "\n",
    "print(is_heads(), is_heads(), is_heads(), is_heads())"
   ]
  },
  {
   "cell_type": "code",
   "execution_count": 27,
   "metadata": {
    "collapsed": false
   },
   "outputs": [],
   "source": [
    "def coin_flip_simulations(powers):\n",
    "    coin_flip_data = []\n",
    "    two_to_the_n_intervals = []\n",
    "    for number in range(2 ** powers):\n",
    "        if is_heads():\n",
    "            coin_flip_data.append(1)\n",
    "        else:\n",
    "            coin_flip_data.append(0)\n",
    "    #print(coin_flip_data)\n",
    "    for number in range(powers + 1):\n",
    "        interval_list = coin_flip_data[:(2 ** number)]\n",
    "        heads = sum(interval_list)\n",
    "        tails = interval_list.count(0)\n",
    "        two_to_the_n_intervals.append((heads, tails))\n",
    "    #print(two_to_the_n_intervals)\n",
    "    return two_to_the_n_intervals\n",
    "\n",
    "coin_flips = coin_flip_simulations(16)"
   ]
  },
  {
   "cell_type": "code",
   "execution_count": 37,
   "metadata": {
    "collapsed": false
   },
   "outputs": [
    {
     "data": {
      "image/png": "[encoded data removed]",
      "text/plain": [
       "<matplotlib.figure.Figure at 0x10dd12c50>"
      ]
     },
     "metadata": {},
     "output_type": "display_data"
    }
   ],
   "source": [
    "plt.plot([heads - tails for heads, tails in coin_flips], 'b-')\n",
    "plt.plot([heads / tails for heads, tails in coin_flips], 'r-')\n",
    "plt.show()"
   ]
  },
  {
   "cell_type": "code",
   "execution_count": null,
   "metadata": {
    "collapsed": true
   },
   "outputs": [],
   "source": []
  }
 ],
 "metadata": {
  "kernelspec": {
   "display_name": "Python 3",
   "language": "python",
   "name": "python3"
  },
  "language_info": {
   "codemirror_mode": {
    "name": "ipython",
    "version": 3
   },
   "file_extension": ".py",
   "mimetype": "text/x-python",
   "name": "python",
   "nbconvert_exporter": "python",
   "pygments_lexer": "ipython3",
   "version": "3.5.1"
  }
 },
 "nbformat": 4,
 "nbformat_minor": 0
}
