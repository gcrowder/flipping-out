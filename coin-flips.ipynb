{
 "cells": [
  {
   "cell_type": "code",
   "execution_count": 1,
   "metadata": {
    "collapsed": true
   },
   "outputs": [],
   "source": [
    "%matplotlib inline\n",
    "import math\n",
    "import random\n",
    "import statistics as st\n",
    "import numpy as np\n",
    "import matplotlib.pyplot as plt"
   ]
  },
  {
   "cell_type": "markdown",
   "metadata": {},
   "source": [
    "# coin-flips\n",
    "### Defining functions for simulation"
   ]
  },
  {
   "cell_type": "code",
   "execution_count": 14,
   "metadata": {
    "collapsed": false
   },
   "outputs": [
    {
     "name": "stdout",
     "output_type": "stream",
     "text": [
      "False True False False\n"
     ]
    }
   ],
   "source": [
    "def is_heads():\n",
    "    coin = random.random()\n",
    "    return coin > 0.500000000"
   ]
  },
  {
   "cell_type": "code",
   "execution_count": 27,
   "metadata": {
    "collapsed": false
   },
   "outputs": [],
   "source": [
    "def coin_flip_simulations(powers):\n",
    "    coin_flip_data = []\n",
    "    two_to_the_n_intervals = []\n",
    "    for number in range(2 ** powers):\n",
    "        if is_heads():\n",
    "            coin_flip_data.append(1)\n",
    "        else:\n",
    "            coin_flip_data.append(0)\n",
    "    #print(coin_flip_data)\n",
    "    for number in range(powers + 1):\n",
    "        interval_list = coin_flip_data[:(2 ** number)]\n",
    "        heads = sum(interval_list)\n",
    "        tails = interval_list.count(0)\n",
    "        two_to_the_n_intervals.append((heads, tails))\n",
    "    #print(two_to_the_n_intervals)\n",
    "    return two_to_the_n_intervals\n",
    "\n",
    "coin_flips = coin_flip_simulations(16)"
   ]
  },
  {
   "cell_type": "markdown",
   "metadata": {},
   "source": [
    "## Line Graphs of difference between heads and tails and ratio between heads and tails, at various base 2 intervals."
   ]
  },
  {
   "cell_type": "code",
   "execution_count": 37,
   "metadata": {
    "collapsed": false
   },
   "outputs": [
    {
     "data": {
      "image/png": "[encoded data removed]",
      "text/plain": [
       "<matplotlib.figure.Figure at 0x10dd12c50>"
      ]
     },
     "metadata": {},
     "output_type": "display_data"
    }
   ],
   "source": [
    "plt.plot([heads - tails for heads, tails in coin_flips], 'b-')\n",
    "plt.plot([heads / tails for heads, tails in coin_flips], 'r-')\n",
    "plt.show()"
   ]
  },
  {
   "cell_type": "markdown",
   "metadata": {},
   "source": [
    "## Same line graphs with logarithmic x-axis"
   ]
  },
  {
   "cell_type": "code",
   "execution_count": 47,
   "metadata": {
    "collapsed": false,
    "scrolled": true
   },
   "outputs": [
    {
     "data": {
      "image/png": "[encoded data removed]",
      "text/plain": [
       "<matplotlib.figure.Figure at 0x10e4c5da0>"
      ]
     },
     "metadata": {},
     "output_type": "display_data"
    }
   ],
   "source": [
    "plt.scatter([2 ** x for x in range(17)], [heads - tails for heads, tails in coin_flips])\n",
    "plt.scatter([2 ** x for x in range(17)], [heads / tails for heads, tails in coin_flips], color='red')\n",
    "plt.xscale('log')\n",
    "plt.show()"
   ]
  },
  {
   "cell_type": "markdown",
   "metadata": {},
   "source": [
    "## Same line graphs with logarithmic base 2 x-axis"
   ]
  },
  {
   "cell_type": "code",
   "execution_count": 46,
   "metadata": {
    "collapsed": false
   },
   "outputs": [
    {
     "data": {
      "image/png": "[encoded data removed]",
      "text/plain": [
       "<matplotlib.figure.Figure at 0x10dd00c18>"
      ]
     },
     "metadata": {},
     "output_type": "display_data"
    }
   ],
   "source": [
    "plt.scatter([2 ** x for x in range(17)], [heads - tails for heads, tails in coin_flips])\n",
    "plt.scatter([2 ** x for x in range(17)], [heads / tails for heads, tails in coin_flips], color='red')\n",
    "plt.xscale('log', basex=2)\n",
    "plt.show()"
   ]
  },
  {
   "cell_type": "markdown",
   "metadata": {},
   "source": [
    "### Do twenty trials of 2<sup>16</sup> coin flip simulations"
   ]
  },
  {
   "cell_type": "code",
   "execution_count": 48,
   "metadata": {
    "collapsed": true
   },
   "outputs": [],
   "source": [
    "twenty_trials = []\n",
    "for number in range(20):\n",
    "    twenty_trials.append(coin_flip_simulations(16))"
   ]
  },
  {
   "cell_type": "markdown",
   "metadata": {},
   "source": [
    "### Graph mean of heads/tails ratio. Avoid divide by zero error by not using st.mean, but need to do own mean in for loop."
   ]
  },
  {
   "cell_type": "code",
   "execution_count": 78,
   "metadata": {
    "collapsed": false,
    "scrolled": true
   },
   "outputs": [
    {
     "data": {
      "image/png": "[encoded data removed]",
      "text/plain": [
       "<matplotlib.figure.Figure at 0x10de93ba8>"
      ]
     },
     "metadata": {},
     "output_type": "display_data"
    },
    {
     "data": {
      "image/png": "[encoded data removed]",
      "text/plain": [
       "<matplotlib.figure.Figure at 0x10e14fef0>"
      ]
     },
     "metadata": {},
     "output_type": "display_data"
    },
    {
     "data": {
      "text/plain": [
       "[1.0,\n",
       " 1.0,\n",
       " 1.0,\n",
       " 1.0,\n",
       " 1.0,\n",
       " 1.0,\n",
       " 1.0,\n",
       " 1.0,\n",
       " 1.0,\n",
       " 1.0,\n",
       " 1.0,\n",
       " 1.0,\n",
       " 1.0,\n",
       " 1.0,\n",
       " 1.0,\n",
       " 1.0,\n",
       " 1.0]"
      ]
     },
     "execution_count": 78,
     "metadata": {},
     "output_type": "execute_result"
    }
   ],
   "source": [
    "ratios = []\n",
    "for x in range(17):\n",
    "    ratios.append([])\n",
    "for trial in twenty_trials:\n",
    "    index = 0\n",
    "    for heads, tails in trial:\n",
    "            ratios[index].append((heads, tails))\n",
    "            index += 1\n",
    "index = 0\n",
    "for interval in ratios:\n",
    "    ratios[index] = sum(interval[0]) / sum(interval[1])\n",
    "    index += 1\n",
    "\n",
    "plt.scatter([2 ** x for x in range(17)], ratios)\n",
    "plt.xscale('log')\n",
    "plt.show()\n",
    "\n",
    "plt.scatter([2 ** x for x in range(17)], ratios)\n",
    "plt.xscale('log', basex=2)\n",
    "plt.show()"
   ]
  },
  {
   "cell_type": "markdown",
   "metadata": {},
   "source": [
    "### Standard Deviation\n",
    "Can't calculate standard deviation. Getting division by zero error."
   ]
  }
 ],
 "metadata": {
  "kernelspec": {
   "display_name": "Python 3",
   "language": "python",
   "name": "python3"
  },
  "language_info": {
   "codemirror_mode": {
    "name": "ipython",
    "version": 3
   },
   "file_extension": ".py",
   "mimetype": "text/x-python",
   "name": "python",
   "nbconvert_exporter": "python",
   "pygments_lexer": "ipython3",
   "version": "3.5.1"
  }
 },
 "nbformat": 4,
 "nbformat_minor": 0
}
